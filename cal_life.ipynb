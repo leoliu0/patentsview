{
 "cells": [
  {
   "cell_type": "code",
   "execution_count": 1,
   "id": "b432f7cd-9b67-46e7-8fca-4131156e80cd",
   "metadata": {},
   "outputs": [],
   "source": [
    "df = rcsv('MaintFeeEvents_20210809.txt',names=['patnum','_2','_3','_4','date','_6','_7',],\n",
    "     sep='\\s+',low_memory=False)"
   ]
  },
  {
   "cell_type": "code",
   "execution_count": 2,
   "id": "2fa6c15d-f7c1-4a09-84ae-587d07c54341",
   "metadata": {},
   "outputs": [],
   "source": [
    "db = sqlite3.connect('/home/leo/patentsview.db')"
   ]
  },
  {
   "cell_type": "code",
   "execution_count": 3,
   "id": "8bc77911-58f1-4bb7-98cf-31ae272974ca",
   "metadata": {},
   "outputs": [],
   "source": [
    "ev = rcsv('../Renew_event.txt',sep='\\s+',names=['_7','yrs'])"
   ]
  },
  {
   "cell_type": "code",
   "execution_count": 4,
   "id": "d33f4944-3db9-450b-9b31-62c51230c14c",
   "metadata": {},
   "outputs": [],
   "source": [
    "df = df.merge(ev)"
   ]
  },
  {
   "cell_type": "code",
   "execution_count": 5,
   "id": "50e7c0a9-649c-466d-ae92-9a19e1ad4c87",
   "metadata": {},
   "outputs": [],
   "source": [
    "df.patnum = tonum(df.patnum,errors='coerce')"
   ]
  },
  {
   "cell_type": "code",
   "execution_count": 6,
   "id": "72f5e79e-a2b6-4f94-ad6c-4be21efbf4f4",
   "metadata": {},
   "outputs": [],
   "source": [
    "df = df.dropna()"
   ]
  },
  {
   "cell_type": "code",
   "execution_count": 9,
   "id": "1d75a09b-e2ee-4452-80bf-1fce44f13beb",
   "metadata": {},
   "outputs": [],
   "source": [
    "df = df.groupby(['patnum']).yrs.max().reset_index()"
   ]
  },
  {
   "cell_type": "code",
   "execution_count": 11,
   "id": "2f2f6321-93b1-4fcb-b795-8d492d9e970a",
   "metadata": {},
   "outputs": [],
   "source": [
    "pat = rsql('select number as patnum,date from patent',db,parse_dates=['date'])"
   ]
  },
  {
   "cell_type": "code",
   "execution_count": 12,
   "id": "3cb0a8f6-92c7-4e4e-a703-304519c50106",
   "metadata": {},
   "outputs": [],
   "source": [
    "pat['yr_now'] = (np.datetime64('2021-08-09') - pat.date) / pd.Timedelta('366 day')"
   ]
  },
  {
   "cell_type": "code",
   "execution_count": 13,
   "id": "fec4c130-554e-42f5-86d3-2f4aaa9b8680",
   "metadata": {},
   "outputs": [],
   "source": [
    "pat = pat[pat['yr_now']>12]"
   ]
  },
  {
   "cell_type": "code",
   "execution_count": 14,
   "id": "d02af5dd-db91-41ed-affa-3512214517ad",
   "metadata": {},
   "outputs": [],
   "source": [
    "pat = pat[pat.date.dt.year>1981]"
   ]
  },
  {
   "cell_type": "code",
   "execution_count": 15,
   "id": "246cd4d9-2979-478f-8169-21ffb3eebc1a",
   "metadata": {},
   "outputs": [],
   "source": [
    "pat.patnum = tonum(pat.patnum,errors='coerce')"
   ]
  },
  {
   "cell_type": "code",
   "execution_count": 18,
   "id": "a482b72a-45d9-4d49-8d57-ba638a9b4c00",
   "metadata": {},
   "outputs": [],
   "source": [
    "df = pat.dropna().merge(df,how='left').fillna(0)"
   ]
  },
  {
   "cell_type": "code",
   "execution_count": 25,
   "id": "c6b6cf7f-1c70-41d2-8de6-424d6945ce09",
   "metadata": {},
   "outputs": [
    {
     "data": {
      "text/plain": [
       "12.00   0.44\n",
       "4.00    0.20\n",
       "8.00    0.19\n",
       "0.00    0.17\n",
       "Name: yrs, dtype: float64"
      ]
     },
     "execution_count": 25,
     "metadata": {},
     "output_type": "execute_result"
    }
   ],
   "source": [
    "df.yrs.value_counts() / df.yrs.count()"
   ]
  }
 ],
 "metadata": {
  "kernelspec": {
   "display_name": "Python 3 (ipykernel)",
   "language": "python",
   "name": "python3"
  },
  "language_info": {
   "codemirror_mode": {
    "name": "ipython",
    "version": 3
   },
   "file_extension": ".py",
   "mimetype": "text/x-python",
   "name": "python",
   "nbconvert_exporter": "python",
   "pygments_lexer": "ipython3",
   "version": "3.8.11"
  }
 },
 "nbformat": 4,
 "nbformat_minor": 5
}
